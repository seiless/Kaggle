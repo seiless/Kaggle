{
 "cells": [
  {
   "cell_type": "code",
   "execution_count": 1,
   "id": "e38ad866",
   "metadata": {},
   "outputs": [],
   "source": [
    "import sys\n",
    "import os\n",
    "import pandas as pd\n",
    "import numpy as np\n",
    "import matplotlib.pyplot as plt\n",
    "import seaborn as sns\n",
    "\n",
    "# 상위 폴더(utils/)를 import 경로에 추가\n",
    "sys.path.append(os.path.abspath('../utils'))\n",
    "from data_preprocessing import Data_overview"
   ]
  },
  {
   "cell_type": "code",
   "execution_count": 2,
   "id": "5545cfe7",
   "metadata": {},
   "outputs": [],
   "source": [
    "# read train data and test data\n",
    "dtypes = {'PassengerId':'object',\n",
    "          'Survived':'int',\n",
    "          'Pclass':'int',\n",
    "          'Name':'object',\n",
    "          'Sex':'object',\n",
    "          'Age':'float',\n",
    "          'SibSp':'float',\n",
    "          'Parch':'float',\n",
    "          'Ticket':'object',\n",
    "          'Fare':'float',\n",
    "          'Cabin':'object',\n",
    "          'Embarked':'object'\n",
    "          }\n",
    "train_data = pd.read_csv('titanic_csv/train.csv',dtype=dtypes)\n",
    "# we don't Column Passengerid for analyise this data set\n",
    "train_data  = train_data.loc[:,'Survived':'Embarked']"
   ]
  },
  {
   "cell_type": "code",
   "execution_count": 3,
   "id": "7a6a29ef",
   "metadata": {},
   "outputs": [],
   "source": [
    "train_data['Title'] = train_data['Name'].str.extract(r' ([A-Za-z]+)\\.', expand=False)\n",
    "title_map = {\n",
    "    \"Mr\": \"Mr\",\n",
    "    \"Miss\": \"Miss\",\n",
    "    \"Mrs\": \"Mrs\",\n",
    "    \"Master\": \"Master\",\n",
    "    \"Mlle\": \"Miss\",\n",
    "    \"Ms\": \"Miss\",\n",
    "    \"Mme\": \"Mrs\",\n",
    "    \"Dr\": \"Professional\",\n",
    "    \"Rev\": \"Clergy\",\n",
    "    \"Major\": \"Military\",\n",
    "    \"Col\": \"Military\",\n",
    "    \"Capt\": \"Military\",\n",
    "    \"Don\": \"Nobility\",\n",
    "    \"Sir\": \"Nobility\",\n",
    "    \"Lady\": \"Nobility\",\n",
    "    \"Countess\": \"Nobility\",\n",
    "    \"Jonkheer\": \"Nobility\"\n",
    "}\n",
    "\n",
    "train_data['Title_fixed'] = train_data['Title'].map(title_map).fillna('Others')"
   ]
  },
  {
   "cell_type": "code",
   "execution_count": 6,
   "id": "fe6c0962",
   "metadata": {},
   "outputs": [
    {
     "ename": "NameError",
     "evalue": "name 'Title' is not defined",
     "output_type": "error",
     "traceback": [
      "\u001b[1;31m---------------------------------------------------------------------------\u001b[0m",
      "\u001b[1;31mNameError\u001b[0m                                 Traceback (most recent call last)",
      "Cell \u001b[1;32mIn [6], line 1\u001b[0m\n\u001b[1;32m----> 1\u001b[0m Data_overview\u001b[38;5;241m.\u001b[39mplot_binary_ratio_by_category(train_data, \u001b[43mTitle\u001b[49m, Survived)\n",
      "\u001b[1;31mNameError\u001b[0m: name 'Title' is not defined"
     ]
    }
   ],
   "source": [
    "Data_overview.plot_binary_ratio_by_category(train_data, Title, Survived)"
   ]
  },
  {
   "cell_type": "code",
   "execution_count": null,
   "id": "6235225c",
   "metadata": {},
   "outputs": [],
   "source": [
    "test_data = pd.read_csv('titanic_csv/test.csv')"
   ]
  },
  {
   "cell_type": "code",
   "execution_count": null,
   "id": "ffc8fa34",
   "metadata": {},
   "outputs": [
    {
     "name": "stdout",
     "output_type": "stream",
     "text": [
      " RMSE: 10.08\n",
      " MAE : 7.79\n",
      " R²  : 0.45\n"
     ]
    },
    {
     "data": {
      "text/html": [
       "<div>\n",
       "<style scoped>\n",
       "    .dataframe tbody tr th:only-of-type {\n",
       "        vertical-align: middle;\n",
       "    }\n",
       "\n",
       "    .dataframe tbody tr th {\n",
       "        vertical-align: top;\n",
       "    }\n",
       "\n",
       "    .dataframe thead th {\n",
       "        text-align: right;\n",
       "    }\n",
       "</style>\n",
       "<table border=\"1\" class=\"dataframe\">\n",
       "  <thead>\n",
       "    <tr style=\"text-align: right;\">\n",
       "      <th></th>\n",
       "      <th>Actual</th>\n",
       "      <th>Predicted</th>\n",
       "    </tr>\n",
       "  </thead>\n",
       "  <tbody>\n",
       "    <tr>\n",
       "      <th>149</th>\n",
       "      <td>42.0</td>\n",
       "      <td>46.080360</td>\n",
       "    </tr>\n",
       "    <tr>\n",
       "      <th>407</th>\n",
       "      <td>3.0</td>\n",
       "      <td>3.653512</td>\n",
       "    </tr>\n",
       "    <tr>\n",
       "      <th>53</th>\n",
       "      <td>29.0</td>\n",
       "      <td>30.180939</td>\n",
       "    </tr>\n",
       "    <tr>\n",
       "      <th>369</th>\n",
       "      <td>24.0</td>\n",
       "      <td>43.767120</td>\n",
       "    </tr>\n",
       "    <tr>\n",
       "      <th>818</th>\n",
       "      <td>43.0</td>\n",
       "      <td>30.873907</td>\n",
       "    </tr>\n",
       "    <tr>\n",
       "      <th>...</th>\n",
       "      <td>...</td>\n",
       "      <td>...</td>\n",
       "    </tr>\n",
       "    <tr>\n",
       "      <th>819</th>\n",
       "      <td>10.0</td>\n",
       "      <td>4.800751</td>\n",
       "    </tr>\n",
       "    <tr>\n",
       "      <th>164</th>\n",
       "      <td>1.0</td>\n",
       "      <td>4.800751</td>\n",
       "    </tr>\n",
       "    <tr>\n",
       "      <th>363</th>\n",
       "      <td>35.0</td>\n",
       "      <td>27.105539</td>\n",
       "    </tr>\n",
       "    <tr>\n",
       "      <th>56</th>\n",
       "      <td>21.0</td>\n",
       "      <td>29.146357</td>\n",
       "    </tr>\n",
       "    <tr>\n",
       "      <th>136</th>\n",
       "      <td>19.0</td>\n",
       "      <td>12.970783</td>\n",
       "    </tr>\n",
       "  </tbody>\n",
       "</table>\n",
       "<p>143 rows × 2 columns</p>\n",
       "</div>"
      ],
      "text/plain": [
       "     Actual  Predicted\n",
       "149    42.0  46.080360\n",
       "407     3.0   3.653512\n",
       "53     29.0  30.180939\n",
       "369    24.0  43.767120\n",
       "818    43.0  30.873907\n",
       "..      ...        ...\n",
       "819    10.0   4.800751\n",
       "164     1.0   4.800751\n",
       "363    35.0  27.105539\n",
       "56     21.0  29.146357\n",
       "136    19.0  12.970783\n",
       "\n",
       "[143 rows x 2 columns]"
      ]
     },
     "execution_count": 10,
     "metadata": {},
     "output_type": "execute_result"
    }
   ],
   "source": [
    "Data_overview.evaluate_null_columns_prediction_model(train_data, column='Age', features=['Pclass', 'Sex', 'SibSp', 'Parch', 'Fare', 'Cabin','Title','Ticket'])"
   ]
  }
 ],
 "metadata": {
  "kernelspec": {
   "display_name": "Python 3",
   "language": "python",
   "name": "python3"
  },
  "language_info": {
   "codemirror_mode": {
    "name": "ipython",
    "version": 3
   },
   "file_extension": ".py",
   "mimetype": "text/x-python",
   "name": "python",
   "nbconvert_exporter": "python",
   "pygments_lexer": "ipython3",
   "version": "3.10.10"
  }
 },
 "nbformat": 4,
 "nbformat_minor": 5
}
