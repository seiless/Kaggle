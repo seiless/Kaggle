{
 "cells": [
  {
   "cell_type": "code",
   "execution_count": 9,
   "id": "e38ad866",
   "metadata": {},
   "outputs": [],
   "source": [
    "import sys\n",
    "import os\n",
    "import pandas as pd\n",
    "import numpy as np\n",
    "import matplotlib.pyplot as plt\n",
    "import seaborn as sns\n",
    "\n",
    "# 상위 폴더(utils/)를 import 경로에 추가\n",
    "sys.path.append(os.path.abspath('../utils'))\n",
    "import data_preprocessing"
   ]
  },
  {
   "cell_type": "code",
   "execution_count": 13,
   "id": "5545cfe7",
   "metadata": {},
   "outputs": [],
   "source": [
    "# read train data and test data\n",
    "dtypes = {'PassengerId':'object',\n",
    "          'Survived':'int',\n",
    "          'Pclass':'int',\n",
    "          'Name':'object',\n",
    "          'Sex':'object',\n",
    "          'Age':'float',\n",
    "          'SibSp':'float',\n",
    "          'Parch':'float',\n",
    "          'Ticket':'object',\n",
    "          'Fare':'float',\n",
    "          'Cabin':'object',\n",
    "          'Embarked':'object'\n",
    "          }\n",
    "train_data = pd.read_csv('titanic_csv/train.csv',dtype=dtypes)\n",
    "# we don't Column Passengerid for analyise this data set\n",
    "train_data  = train_data.loc[:,'Survived':'Embarked']"
   ]
  },
  {
   "cell_type": "code",
   "execution_count": 8,
   "id": "6235225c",
   "metadata": {},
   "outputs": [],
   "source": [
    "train_data = pd.read_csv('titanic_csv/train.csv')\n",
    "test_data = pd.read_csv('titanic_csv/test.csv')"
   ]
  }
 ],
 "metadata": {
  "kernelspec": {
   "display_name": "Python 3",
   "language": "python",
   "name": "python3"
  },
  "language_info": {
   "codemirror_mode": {
    "name": "ipython",
    "version": 3
   },
   "file_extension": ".py",
   "mimetype": "text/x-python",
   "name": "python",
   "nbconvert_exporter": "python",
   "pygments_lexer": "ipython3",
   "version": "3.10.10"
  }
 },
 "nbformat": 4,
 "nbformat_minor": 5
}
