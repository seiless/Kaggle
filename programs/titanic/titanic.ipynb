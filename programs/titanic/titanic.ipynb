{
 "cells": [
  {
   "cell_type": "code",
   "execution_count": 1,
   "id": "e38ad866",
   "metadata": {},
   "outputs": [],
   "source": [
    "import sys\n",
    "import os\n",
    "import pandas as pd\n",
    "import numpy as np\n",
    "import matplotlib.pyplot as plt\n",
    "import seaborn as sns\n",
    "\n",
    "# 상위 폴더(utils/)를 import 경로에 추가\n",
    "sys.path.append(os.path.abspath('../utils'))\n",
    "from data_preprocessing import Data_overview"
   ]
  },
  {
   "cell_type": "code",
   "execution_count": 2,
   "id": "5545cfe7",
   "metadata": {},
   "outputs": [],
   "source": [
    "# read train data and test data\n",
    "dtypes = {'PassengerId':'object',\n",
    "          'Survived':'int',\n",
    "          'Pclass':'int',\n",
    "          'Name':'object',\n",
    "          'Sex':'object',\n",
    "          'Age':'float',\n",
    "          'SibSp':'float',\n",
    "          'Parch':'float',\n",
    "          'Ticket':'object',\n",
    "          'Fare':'float',\n",
    "          'Cabin':'object',\n",
    "          'Embarked':'object'\n",
    "          }\n",
    "train_data = pd.read_csv('titanic_csv/train.csv',dtype=dtypes)\n",
    "# we don't Column Passengerid for analyise this data set\n",
    "train_data  = train_data.loc[:,'Survived':'Embarked']"
   ]
  },
  {
   "cell_type": "code",
   "execution_count": 3,
   "id": "7a6a29ef",
   "metadata": {},
   "outputs": [],
   "source": [
    "train_data['Title'] = train_data['Name'].str.extract(r' ([A-Za-z]+)\\.', expand=False)\n",
    "title_map = {\n",
    "    \"Mr\": \"Mr\",\n",
    "    \"Miss\": \"Miss\",\n",
    "    \"Mrs\": \"Mrs\",\n",
    "    \"Master\": \"Master\",\n",
    "    \"Mlle\": \"Miss\",\n",
    "    \"Ms\": \"Miss\",\n",
    "    \"Mme\": \"Mrs\",\n",
    "    \"Dr\": \"Professional\",\n",
    "    \"Rev\": \"Clergy\",\n",
    "    \"Major\": \"Military\",\n",
    "    \"Col\": \"Military\",\n",
    "    \"Capt\": \"Military\",\n",
    "    \"Don\": \"Nobility\",\n",
    "    \"Sir\": \"Nobility\",\n",
    "    \"Lady\": \"Nobility\",\n",
    "    \"Countess\": \"Nobility\",\n",
    "    \"Jonkheer\": \"Nobility\"\n",
    "}\n",
    "\n",
    "train_data['Title_fixed'] = train_data['Title'].map(title_map).fillna('Others')"
   ]
  },
  {
   "cell_type": "code",
   "execution_count": 4,
   "id": "fe6c0962",
   "metadata": {},
   "outputs": [
    {
     "ename": "NameError",
     "evalue": "name 'ax' is not defined",
     "output_type": "error",
     "traceback": [
      "\u001b[1;31m---------------------------------------------------------------------------\u001b[0m",
      "\u001b[1;31mNameError\u001b[0m                                 Traceback (most recent call last)",
      "Cell \u001b[1;32mIn [4], line 1\u001b[0m\n\u001b[1;32m----> 1\u001b[0m \u001b[43mData_overview\u001b[49m\u001b[38;5;241;43m.\u001b[39;49m\u001b[43mplot_binary_ratio_by_category\u001b[49m\u001b[43m(\u001b[49m\u001b[43mtrain_data\u001b[49m\u001b[43m,\u001b[49m\u001b[43m \u001b[49m\u001b[38;5;124;43m'\u001b[39;49m\u001b[38;5;124;43mTitle\u001b[39;49m\u001b[38;5;124;43m'\u001b[39;49m\u001b[43m,\u001b[49m\u001b[43m \u001b[49m\u001b[38;5;124;43m'\u001b[39;49m\u001b[38;5;124;43mSurvived\u001b[39;49m\u001b[38;5;124;43m'\u001b[39;49m\u001b[43m)\u001b[49m\n",
      "File \u001b[1;32mc:\\Users\\namwonjin\\Documents\\Kaggle\\programs\\utils\\data_preprocessing.py:96\u001b[0m, in \u001b[0;36mData_overview.plot_binary_ratio_by_category\u001b[1;34m(df, category_col, target_col)\u001b[0m\n\u001b[0;32m     94\u001b[0m             plt\u001b[38;5;241m.\u001b[39mtext(i, cumulative \u001b[38;5;241m+\u001b[39m val \u001b[38;5;241m/\u001b[39m \u001b[38;5;241m2\u001b[39m, \u001b[38;5;124mf\u001b[39m\u001b[38;5;124m\"\u001b[39m\u001b[38;5;132;01m{\u001b[39;00mval \u001b[38;5;241m*\u001b[39m \u001b[38;5;241m100\u001b[39m\u001b[38;5;132;01m:\u001b[39;00m\u001b[38;5;124m.0f\u001b[39m\u001b[38;5;132;01m}\u001b[39;00m\u001b[38;5;124m%\u001b[39m\u001b[38;5;124m\"\u001b[39m, ha\u001b[38;5;241m=\u001b[39m\u001b[38;5;124m'\u001b[39m\u001b[38;5;124mcenter\u001b[39m\u001b[38;5;124m'\u001b[39m, va\u001b[38;5;241m=\u001b[39m\u001b[38;5;124m'\u001b[39m\u001b[38;5;124mcenter\u001b[39m\u001b[38;5;124m'\u001b[39m, fontsize\u001b[38;5;241m=\u001b[39m\u001b[38;5;241m10\u001b[39m)\n\u001b[0;32m     95\u001b[0m             cumulative \u001b[38;5;241m+\u001b[39m\u001b[38;5;241m=\u001b[39m val\n\u001b[1;32m---> 96\u001b[0m     \u001b[43max\u001b[49m\u001b[38;5;241m.\u001b[39mtext(i, \u001b[38;5;241m1.02\u001b[39m, \u001b[38;5;124mf\u001b[39m\u001b[38;5;124m\"\u001b[39m\u001b[38;5;124mn=\u001b[39m\u001b[38;5;132;01m{\u001b[39;00mtotal_counts[idx]\u001b[38;5;132;01m}\u001b[39;00m\u001b[38;5;124m\"\u001b[39m, ha\u001b[38;5;241m=\u001b[39m\u001b[38;5;124m'\u001b[39m\u001b[38;5;124mcenter\u001b[39m\u001b[38;5;124m'\u001b[39m, va\u001b[38;5;241m=\u001b[39m\u001b[38;5;124m'\u001b[39m\u001b[38;5;124mbottom\u001b[39m\u001b[38;5;124m'\u001b[39m, fontsize\u001b[38;5;241m=\u001b[39m\u001b[38;5;241m10\u001b[39m, fontweight\u001b[38;5;241m=\u001b[39m\u001b[38;5;124m'\u001b[39m\u001b[38;5;124mbold\u001b[39m\u001b[38;5;124m'\u001b[39m)\n\u001b[0;32m     98\u001b[0m plt\u001b[38;5;241m.\u001b[39mtitle(\u001b[38;5;124mf\u001b[39m\u001b[38;5;124m\"\u001b[39m\u001b[38;5;124mNormalized Ratio of \u001b[39m\u001b[38;5;132;01m{\u001b[39;00mtarget_col\u001b[38;5;132;01m}\u001b[39;00m\u001b[38;5;124m per \u001b[39m\u001b[38;5;132;01m{\u001b[39;00mcategory_col\u001b[38;5;132;01m}\u001b[39;00m\u001b[38;5;124m\"\u001b[39m)\n\u001b[0;32m     99\u001b[0m plt\u001b[38;5;241m.\u001b[39mylabel(\u001b[38;5;124m\"\u001b[39m\u001b[38;5;124mPercentage\u001b[39m\u001b[38;5;124m\"\u001b[39m)\n",
      "\u001b[1;31mNameError\u001b[0m: name 'ax' is not defined"
     ]
    },
    {
     "data": {
      "image/png": "[encoded data removed]",
      "text/plain": [
       "<Figure size 800x500 with 1 Axes>"
      ]
     },
     "metadata": {},
     "output_type": "display_data"
    }
   ],
   "source": [
    "Data_overview.plot_binary_ratio_by_category(train_data, 'Title', 'Survived')"
   ]
  },
  {
   "cell_type": "code",
   "execution_count": null,
   "id": "6235225c",
   "metadata": {},
   "outputs": [],
   "source": [
    "test_data = pd.read_csv('titanic_csv/test.csv')"
   ]
  },
  {
   "cell_type": "code",
   "execution_count": null,
   "id": "ffc8fa34",
   "metadata": {},
   "outputs": [
    {
     "name": "stdout",
     "output_type": "stream",
     "text": [
      " RMSE: 10.07\n",
      " MAE : 7.73\n",
      " R²  : 0.45\n"
     ]
    },
    {
     "data": {
      "text/html": [
       "<div>\n",
       "<style scoped>\n",
       "    .dataframe tbody tr th:only-of-type {\n",
       "        vertical-align: middle;\n",
       "    }\n",
       "\n",
       "    .dataframe tbody tr th {\n",
       "        vertical-align: top;\n",
       "    }\n",
       "\n",
       "    .dataframe thead th {\n",
       "        text-align: right;\n",
       "    }\n",
       "</style>\n",
       "<table border=\"1\" class=\"dataframe\">\n",
       "  <thead>\n",
       "    <tr style=\"text-align: right;\">\n",
       "      <th></th>\n",
       "      <th>Actual</th>\n",
       "      <th>Predicted</th>\n",
       "    </tr>\n",
       "  </thead>\n",
       "  <tbody>\n",
       "    <tr>\n",
       "      <th>149</th>\n",
       "      <td>42.0</td>\n",
       "      <td>46.021828</td>\n",
       "    </tr>\n",
       "    <tr>\n",
       "      <th>407</th>\n",
       "      <td>3.0</td>\n",
       "      <td>3.402293</td>\n",
       "    </tr>\n",
       "    <tr>\n",
       "      <th>53</th>\n",
       "      <td>29.0</td>\n",
       "      <td>31.704887</td>\n",
       "    </tr>\n",
       "    <tr>\n",
       "      <th>369</th>\n",
       "      <td>24.0</td>\n",
       "      <td>39.709526</td>\n",
       "    </tr>\n",
       "    <tr>\n",
       "      <th>818</th>\n",
       "      <td>43.0</td>\n",
       "      <td>31.871553</td>\n",
       "    </tr>\n",
       "    <tr>\n",
       "      <th>...</th>\n",
       "      <td>...</td>\n",
       "      <td>...</td>\n",
       "    </tr>\n",
       "    <tr>\n",
       "      <th>819</th>\n",
       "      <td>10.0</td>\n",
       "      <td>4.283302</td>\n",
       "    </tr>\n",
       "    <tr>\n",
       "      <th>164</th>\n",
       "      <td>1.0</td>\n",
       "      <td>4.283302</td>\n",
       "    </tr>\n",
       "    <tr>\n",
       "      <th>363</th>\n",
       "      <td>35.0</td>\n",
       "      <td>27.256527</td>\n",
       "    </tr>\n",
       "    <tr>\n",
       "      <th>56</th>\n",
       "      <td>21.0</td>\n",
       "      <td>28.751616</td>\n",
       "    </tr>\n",
       "    <tr>\n",
       "      <th>136</th>\n",
       "      <td>19.0</td>\n",
       "      <td>17.888309</td>\n",
       "    </tr>\n",
       "  </tbody>\n",
       "</table>\n",
       "<p>143 rows × 2 columns</p>\n",
       "</div>"
      ],
      "text/plain": [
       "     Actual  Predicted\n",
       "149    42.0  46.021828\n",
       "407     3.0   3.402293\n",
       "53     29.0  31.704887\n",
       "369    24.0  39.709526\n",
       "818    43.0  31.871553\n",
       "..      ...        ...\n",
       "819    10.0   4.283302\n",
       "164     1.0   4.283302\n",
       "363    35.0  27.256527\n",
       "56     21.0  28.751616\n",
       "136    19.0  17.888309\n",
       "\n",
       "[143 rows x 2 columns]"
      ]
     },
     "execution_count": 18,
     "metadata": {},
     "output_type": "execute_result"
    }
   ],
   "source": [
    "Data_overview.evaluate_null_columns_prediction_model(train_data, column='Age', features=['Pclass', 'Sex', 'SibSp', 'Parch', 'Fare', 'Cabin','Title','Ticket'])"
   ]
  }
 ],
 "metadata": {
  "kernelspec": {
   "display_name": "Python 3",
   "language": "python",
   "name": "python3"
  },
  "language_info": {
   "codemirror_mode": {
    "name": "ipython",
    "version": 3
   },
   "file_extension": ".py",
   "mimetype": "text/x-python",
   "name": "python",
   "nbconvert_exporter": "python",
   "pygments_lexer": "ipython3",
   "version": "3.10.10"
  }
 },
 "nbformat": 4,
 "nbformat_minor": 5
}
