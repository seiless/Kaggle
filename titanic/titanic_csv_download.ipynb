{
 "cells": [
  {
   "cell_type": "code",
   "execution_count": 7,
   "id": "2fdfbe82",
   "metadata": {},
   "outputs": [],
   "source": [
    "import os\n",
    "import json\n",
    "\n",
    "# 현재 작업 디렉토리 기준으로 세 단계 상위 경로\n",
    "three_levels_up = os.path.abspath(os.path.join(os.getcwd(), '..', '..', '..'))\n",
    "\n",
    "# JSON 파일 경로\n",
    "json_path = os.path.join(three_levels_up, 'kaggle.json')\n",
    "\n",
    "# 파일 읽기\n",
    "with open(json_path, 'r') as f:\n",
    "    json_data = json.load(f)"
   ]
  },
  {
   "cell_type": "code",
   "execution_count": 8,
   "id": "54730371",
   "metadata": {},
   "outputs": [],
   "source": [
    "os.environ[\"KAGGLE_USERNAME\"] = json_data['username']\n",
    "os.environ[\"KAGGLE_KEY\"] = json_data['key']"
   ]
  },
  {
   "cell_type": "code",
   "execution_count": 9,
   "id": "5d91c9fa",
   "metadata": {},
   "outputs": [
    {
     "name": "stdout",
     "output_type": "stream",
     "text": [
      "Downloading titanic.zip to c:\\Users\\namwonjin\\Documents\\Kaggle\\programs\\titanic\n",
      "\n"
     ]
    },
    {
     "name": "stderr",
     "output_type": "stream",
     "text": [
      "\n",
      "  0%|          | 0.00/34.1k [00:00<?, ?B/s]\n",
      "100%|██████████| 34.1k/34.1k [00:00<00:00, 528kB/s]\n"
     ]
    }
   ],
   "source": [
    "!kaggle competitions download -c titanic"
   ]
  },
  {
   "cell_type": "code",
   "execution_count": 10,
   "id": "482dd5ce",
   "metadata": {},
   "outputs": [],
   "source": [
    "import zipfile\n",
    "\n",
    "with zipfile.ZipFile('titanic.zip', 'r') as zip_ref:\n",
    "    zip_ref.extractall('titanic_csv')  # 원하는 경로로 설정 가능"
   ]
  }
 ],
 "metadata": {
  "kernelspec": {
   "display_name": "Python 3",
   "language": "python",
   "name": "python3"
  },
  "language_info": {
   "codemirror_mode": {
    "name": "ipython",
    "version": 3
   },
   "file_extension": ".py",
   "mimetype": "text/x-python",
   "name": "python",
   "nbconvert_exporter": "python",
   "pygments_lexer": "ipython3",
   "version": "3.10.10"
  }
 },
 "nbformat": 4,
 "nbformat_minor": 5
}
